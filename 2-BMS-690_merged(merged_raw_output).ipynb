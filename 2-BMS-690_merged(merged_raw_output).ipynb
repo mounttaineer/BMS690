{
 "cells": [
  {
   "cell_type": "raw",
   "id": "b0bcbf72-5e9b-45ec-b074-fd917b86acc8",
   "metadata": {},
   "source": [
    "## __author__ = \"Greg Perry\"\n",
    "## __date__ = \"3/19/2022\"\n",
    "## __copyright__ = \"Copyright 2022, Bar Harbor, ME, USA\"\n",
    "## __credits__ = [\"Bill Flynn\"]\n",
    "## __version__ = \"1.0\"\n",
    "## __email__ = \"greg.perry@jax.org\"\n",
    "## __status__ = \"in development\"\n",
    "## __notes__ = \"this notebook is used to get the raw merged data with only very basic data cleaning."
   ]
  },
  {
   "cell_type": "markdown",
   "id": "ab1bed37-6eaf-456a-a27d-24042237ff81",
   "metadata": {},
   "source": [
    "## Package imports"
   ]
  },
  {
   "cell_type": "code",
   "execution_count": 2,
   "id": "f614805a-9c33-4c3f-a5fb-103c2bc88e2b",
   "metadata": {},
   "outputs": [],
   "source": [
    "# Backbone imports\n",
    "import numpy as np\n",
    "import pandas as pd\n",
    "import matplotlib.pyplot as plt\n",
    "import seaborn as sns\n",
    "from pathlib import Path\n",
    "# Single Cell imports\n",
    "import anndata\n",
    "import scanpy as sc\n",
    "import scrublet as scr\n",
    "import harmonypy\n",
    "from pybiomart import Server\n",
    "\n",
    "import warnings\n",
    "warnings.filterwarnings(action=\"ignore\")"
   ]
  },
  {
   "cell_type": "markdown",
   "id": "170270fd-4a21-4927-a406-64b713742fff",
   "metadata": {},
   "source": [
    "## Package Settings"
   ]
  },
  {
   "cell_type": "code",
   "execution_count": 2,
   "id": "51f9a403-909c-4ad4-9ee3-9ec61013ca77",
   "metadata": {},
   "outputs": [
    {
     "name": "stdout",
     "output_type": "stream",
     "text": [
      "scanpy==1.8.2 anndata==0.8.0 umap==0.5.3 numpy==1.22.4 scipy==1.8.1 pandas==1.4.2 scikit-learn==1.0.2 statsmodels==0.13.2 python-igraph==0.9.10 pynndescent==0.5.7\n"
     ]
    }
   ],
   "source": [
    "sc.settings.verbosity = 2\n",
    "sc.logging.print_header()"
   ]
  },
  {
   "cell_type": "code",
   "execution_count": 3,
   "id": "73b67d71-83e8-4e7f-8097-58f7a3f1f1ad",
   "metadata": {},
   "outputs": [],
   "source": [
    "\n",
    "data_dir = Path(\"C:/Users/gperry/OneDrive - The Jackson Laboratory/Documents/GSBE Project - meeting recordings/molecule_files\")\n"
   ]
  },
  {
   "cell_type": "markdown",
   "id": "9b94fee9-02be-433b-9bce-4aa854ed890b",
   "metadata": {},
   "source": [
    "## Functions"
   ]
  },
  {
   "cell_type": "code",
   "execution_count": 4,
   "id": "59b56a58-0e44-47e7-96c4-92ab22bb84ab",
   "metadata": {},
   "outputs": [],
   "source": [
    "#### Query Functions ####\n",
    "\n",
    "def query_ribosomal_genes(biomart_annos):\n",
    "    \"\"\"feeds biomart_annos into function, \"\"\"\n",
    "    return biomart_annos.loc[             # returns the location in biomart\n",
    "        biomart_annos.go_id.isin([\"GO:0005840\"]) |   #This GO ID must be 005840\n",
    "        biomart_annos.external_gene_name.str.lower().str.match(\"^m?rp[ls]\\d+\"), # \\d+ one or more digits\n",
    "        \"external_gene_name\"\n",
    "    ].dropna().unique()\n",
    "def query_mitochondrial_genes(biomart_annos):\n",
    "    return biomart_annos.loc[\n",
    "        biomart_annos.chromosome_name.str.match(\"^(mt|MT)\") & True, \n",
    "        \"external_gene_name\"\n",
    "    ].dropna().unique()\n",
    "def query_hemoglobin_genes(biomart_annos):\n",
    "    return biomart_annos.loc[\n",
    "        biomart_annos.go_id.isin([\"GO:0005833\"]),\n",
    "        \"external_gene_name\"\n",
    "    ].dropna().unique()\n",
    "def query_proliferation_genes(biomart_annos):\n",
    "    return biomart_annos.loc[\n",
    "        biomart_annos.go_id.isin([\"GO:0008283\"]),\n",
    "        \"external_gene_name\"\n",
    "    ].dropna().unique()\n",
    "def query_xlinked_genes(biomart_annos):\n",
    "    return biomart_annos.loc[\n",
    "        biomart_annos.chromosome_name.str.match(\"^(chrX|X|x|chrx)\") & True, \n",
    "        \"external_gene_name\"\n",
    "    ].dropna().unique()\n",
    "def query_ylinked_genes(biomart_annos):\n",
    "    return biomart_annos.loc[\n",
    "        biomart_annos.chromosome_name.str.match(\"^(chrY|Y|y|chry)\") & True, \n",
    "        \"external_gene_name\"\n",
    "    ].dropna().unique()\n",
    "#### Annotation Functions #####################################################################\n",
    "def annotate_var(adata, species):\n",
    "    biomart_annos = sc.queries.biomart_annotations(\n",
    "        species, \n",
    "        [\"external_gene_name\", \"chromosome_name\", \"go_id\"], \n",
    "        use_cache=True\n",
    "    )\n",
    "    #cc_genes = pd.Index(pd.read_csv(\"cell_cycle.csv\", header=0, index_col=1).index[:484])\n",
    "    #cc_genes = cc_genes.tolist() + cc_genes.str.capitalize().tolist()\n",
    "    #stress_genes = pd.read_csv(\"coregene_stress-response.csv\", header=0, index_col=6).index\n",
    "    #stress_genes = stress_genes.tolist() + stress_genes.str.capitalize().tolist()\n",
    "    idx = adata.var.species.isin([species])\n",
    "    adata.var.loc[idx, \"hemoglobin\"] = adata.var_names.isin(query_hemoglobin_genes(biomart_annos))[idx]\n",
    "    adata.var.loc[idx, \"mitochondrial\"] = adata.var_names.isin(query_mitochondrial_genes(biomart_annos))[idx]\n",
    "    adata.var.loc[idx, \"ribosomal\"] = adata.var_names.isin(query_ribosomal_genes(biomart_annos))[idx]\n",
    "    adata.var.loc[idx, \"x_linked\"] = adata.var_names.isin(query_xlinked_genes(biomart_annos))[idx]\n",
    "    adata.var.loc[idx, \"y_linked\"] = adata.var_names.isin(query_ylinked_genes(biomart_annos))[idx]\n",
    "    adata.var.loc[idx, \"sex_linked\"] = adata.var_names.isin([\"Xist\", \"XIST\"])[idx] | adata.var.y_linked[idx]\n",
    "    adata.var.loc[idx, \"proliferation\"] = adata.var_names.isin(query_proliferation_genes(biomart_annos))[idx]\n",
    "    #adata.var.loc[idx, \"cell_cycle\"] = adata.var_names.isin(cc_genes)[idx]\n",
    "    #adata.var.loc[idx, \"stress_response\"] = adata.var_names.isin(stress_genes)[idx]\n",
    "    adata.var.loc[idx, \"exclude_from_highly_variable\"] =  \\\n",
    "        adata.var.proliferation[idx] | \\\n",
    "        adata.var.hemoglobin[idx] | \\\n",
    "        adata.var.mitochondrial[idx] | \\\n",
    "        adata.var.ribosomal[idx] | \\\n",
    "        adata.var.sex_linked[idx]\n",
    "        #adata.var.stress_response[idx] | \\\n",
    "        #adata.var.cell_cycle[idx] | \\       \n",
    "################################################################################   \n",
    "def annotate_raw_10x_data(output_path: Path, species: str):\n",
    "    \"\"\"\n",
    "    Use to load and quickly annotate a filtered_feature_bc_matrix.h5\n",
    "    \"\"\"\n",
    "    assert species in [\"mmusculus\", \"hsapiens\", \"hsapiens+mmusculus\"]\n",
    "    output_path = Path(output_path)\n",
    "    filtered_h5_files = list(output_path.rglob(\"filtered_*.h5\"))\n",
    "    if filtered_h5_files:\n",
    "        filtered_h5_file = filtered_h5_files[0]\n",
    "    else:\n",
    "        raise FileNotFoundError(f\"Could not find 'filtered_*.h5' under {output_path}\")\n",
    "    output_id = output_path.stem\n",
    "    adata = sc.read_10x_h5(filtered_h5_file)\n",
    "    soupX_dirs = list(output_path.rglob(\"soupX\"))\n",
    "    if soupX_dirs:\n",
    "        soupX_dir = soupX_dirs[0]\n",
    "        adata.layers[\"soupX\"] = sc.read_10x_mtx(soupX_dir).X.copy()\n",
    "    else:\n",
    "        adata.layers[\"soupX\"] = adata.X.copy()\n",
    "    adata.obs[\"processed_id\"] = output_id\n",
    "    seqsat_files = list(output_path.rglob(\"sequencing_saturation.csv\"))\n",
    "    if seqsat_files:\n",
    "        seqsat = pd.read_csv(seqsat_files[0], index_col=0, header=0)\n",
    "        adata.obs.loc[seqsat.index, \"sequencing_saturation\"] = seqsat[\"saturation\"].values \n",
    "    for key in [\"hemoglobin\", \"mitochondrial\", \"ribosomal\", \"x_linked\", \"y_linked\", \"sex_linked\", \"exclude_from_highly_variable\"]:\n",
    "        adata.var[key] = False    \n",
    "    if species == \"hsapiens+mmusculus\":\n",
    "        adata.var[\"is_human\"] = adata.var.genome.isin([\"GRCh38\"])\n",
    "        adata.var[\"species\"] = \"mmusculus\"\n",
    "        adata.var.loc[adata.var.is_human, \"species\"] = \"hsapiens\"\n",
    "    \n",
    "        adata.var_names = adata.var_names.str.extract(\"(GRCh38|mm10)_+(.*)\").iloc[:,1]\n",
    "    else:\n",
    "        adata.var[\"is_human\"] = species == \"hsapiens\"\n",
    "        adata.var[\"species\"] = species\n",
    "    adata.var_names_make_unique()  \n",
    "    for specie in species.split(\"+\"):\n",
    "        annotate_var(adata, specie)             # this calls annotate_var() then runs qc metrics\n",
    "    sc.pp.calculate_qc_metrics(\n",
    "        adata,\n",
    "        qc_vars=(\"mitochondrial\", \"hemoglobin\", \"ribosomal\", \"sex_linked\", \"is_human\"),\n",
    "        percent_top=None,\n",
    "        log1p=True,\n",
    "        inplace=True\n",
    "    )  \n",
    "    scrub = scr.Scrublet(adata.X)\n",
    "    doublet_scores, predicted_doublets = scrub.scrub_doublets()\n",
    "    adata.obs[\"scrublet_putative_doublet\"] = predicted_doublets\n",
    "    adata.obs[\"scrublet_score\"] = doublet_scores  \n",
    "    adata.raw = adata\n",
    "    adata.layers[\"raw\"] = adata.X.copy()\n",
    "    adata.layers[\"log_raw\"] = sc.pp.log1p(adata.X,copy=True).copy()\n",
    "    adata.layers[\"log_soupX\"] = sc.pp.log1p(adata.layers[\"soupX\"],copy=True)  \n",
    "    return adata\n",
    "#### QC Functions ###############################################################################\n",
    "\n",
    "def qc_metrics_violin(adata):\n",
    "    titles = [\"UMIs\", \"Genes\",\"% mtRNA\", \"% rRNA\", \"Hemoglobin\"]\n",
    "    keys = [\n",
    "        \"total_counts\", \"n_genes_by_counts\", \"pct_counts_mitochondrial\", \n",
    "        \"pct_counts_ribosomal\", \"total_counts_hemoglobin\"\n",
    "    ]\n",
    "    L = len(keys)\n",
    "    fig, axs = plt.subplots(1, L, figsize=(L*2, 3), dpi=200, gridspec_kw=dict(wspace=1))\n",
    "\n",
    "    for ax, key, title in zip(axs.flat, keys, titles):\n",
    "        sc.pl.violin(adata, key, layer=\"log_raw\", color=\"0.85\", use_raw=False, ax=ax, show=False, size=0.5, jitter=0.4, stripplot=False)\n",
    "        ax.set_xlabel(\"\"); ax.set_ylabel(adata.obs.processed_id.head(1).values[0])\n",
    "        ax.set_xticks([])\n",
    "        ax.set_title(title)\n",
    "        sns.despine(fig, ax)\n",
    "    fig.subplots_adjust(wspace=1)\n",
    "    return fig"
   ]
  },
  {
   "cell_type": "markdown",
   "id": "b0bbb5c6-b055-4b0c-9df2-772456d09487",
   "metadata": {},
   "source": [
    "## Import Directory and sample import"
   ]
  },
  {
   "cell_type": "code",
   "execution_count": 5,
   "id": "734410eb-0162-48b6-a726-e42825bc553d",
   "metadata": {},
   "outputs": [],
   "source": [
    "# output id as well as short hand mapping we might use later\n",
    "output_id_mapping = {\n",
    "    \"PR19050\": \"primary_tumor_1\", \n",
    "    \"PR19051\": \"primary_tumor_2\", \n",
    "    \"PR19052\": \"primary_tumor_3\", \n",
    "    \"SC2100407\": \"pdx_nsg-il6_1\", \n",
    "    \"SC2100408\": \"pdx_nsg\", \n",
    "    \"SC2100424\": \"pdx_nsg-il6_2\",\n",
    "    \"SC2100426\": \"pdo\"\n",
    "}"
   ]
  },
  {
   "cell_type": "code",
   "execution_count": 6,
   "id": "c8d30e1c-88d3-4ef1-b14b-77affd58731b",
   "metadata": {},
   "outputs": [],
   "source": [
    "input_paths = [data_dir / output_id for output_id in output_id_mapping.keys()]  #"
   ]
  },
  {
   "cell_type": "code",
   "execution_count": 7,
   "id": "c9e5e6f8-7fad-4e6c-baef-6b21d1073cb4",
   "metadata": {},
   "outputs": [
    {
     "name": "stdout",
     "output_type": "stream",
     "text": [
      "reading C:\\Users\\gperry\\OneDrive - The Jackson Laboratory\\Documents\\GSBE Project - meeting recordings\\molecule_files\\PR19050\\filtered_feature_bc_matrix.h5\n",
      " (0:00:01)\n",
      "Preprocessing...\n",
      "Simulating doublets...\n",
      "Embedding transcriptomes using PCA...\n",
      "Calculating doublet scores...\n",
      "Automatically set threshold at doublet score = 0.41\n",
      "Detected doublet rate = 1.1%\n",
      "Estimated detectable doublet fraction = 25.1%\n",
      "Overall doublet rate:\n",
      "\tExpected   = 10.0%\n",
      "\tEstimated  = 4.5%\n",
      "Elapsed time: 13.2 seconds\n",
      "reading C:\\Users\\gperry\\OneDrive - The Jackson Laboratory\\Documents\\GSBE Project - meeting recordings\\molecule_files\\PR19051\\filtered_feature_bc_matrix.h5\n",
      " (0:00:00)\n",
      "Preprocessing...\n",
      "Simulating doublets...\n",
      "Embedding transcriptomes using PCA...\n",
      "Calculating doublet scores...\n",
      "Automatically set threshold at doublet score = 0.41\n",
      "Detected doublet rate = 1.9%\n",
      "Estimated detectable doublet fraction = 34.7%\n",
      "Overall doublet rate:\n",
      "\tExpected   = 10.0%\n",
      "\tEstimated  = 5.6%\n",
      "Elapsed time: 17.9 seconds\n",
      "reading C:\\Users\\gperry\\OneDrive - The Jackson Laboratory\\Documents\\GSBE Project - meeting recordings\\molecule_files\\PR19052\\filtered_feature_bc_matrix.h5\n",
      " (0:00:01)\n",
      "Preprocessing...\n",
      "Simulating doublets...\n",
      "Embedding transcriptomes using PCA...\n",
      "Calculating doublet scores...\n",
      "Automatically set threshold at doublet score = 0.38\n",
      "Detected doublet rate = 1.8%\n",
      "Estimated detectable doublet fraction = 31.7%\n",
      "Overall doublet rate:\n",
      "\tExpected   = 10.0%\n",
      "\tEstimated  = 5.8%\n",
      "Elapsed time: 15.8 seconds\n",
      "reading C:\\Users\\gperry\\OneDrive - The Jackson Laboratory\\Documents\\GSBE Project - meeting recordings\\molecule_files\\SC2100407\\filtered_feature_bc_matrix.h5\n",
      " (0:00:01)\n",
      "Preprocessing...\n",
      "Simulating doublets...\n",
      "Embedding transcriptomes using PCA...\n",
      "Calculating doublet scores...\n",
      "Automatically set threshold at doublet score = 0.47\n",
      "Detected doublet rate = 0.6%\n",
      "Estimated detectable doublet fraction = 7.6%\n",
      "Overall doublet rate:\n",
      "\tExpected   = 10.0%\n",
      "\tEstimated  = 8.4%\n",
      "Elapsed time: 12.7 seconds\n",
      "reading C:\\Users\\gperry\\OneDrive - The Jackson Laboratory\\Documents\\GSBE Project - meeting recordings\\molecule_files\\SC2100408\\filtered_feature_bc_matrix.h5\n",
      " (0:00:01)\n",
      "Preprocessing...\n",
      "Simulating doublets...\n",
      "Embedding transcriptomes using PCA...\n",
      "Calculating doublet scores...\n",
      "Automatically set threshold at doublet score = 0.71\n",
      "Detected doublet rate = 0.0%\n",
      "Estimated detectable doublet fraction = 1.1%\n",
      "Overall doublet rate:\n",
      "\tExpected   = 10.0%\n",
      "\tEstimated  = 1.7%\n",
      "Elapsed time: 12.0 seconds\n",
      "reading C:\\Users\\gperry\\OneDrive - The Jackson Laboratory\\Documents\\GSBE Project - meeting recordings\\molecule_files\\SC2100424\\filtered_feature_bc_matrix.h5\n",
      " (0:00:01)\n",
      "Preprocessing...\n",
      "Simulating doublets...\n",
      "Embedding transcriptomes using PCA...\n",
      "Calculating doublet scores...\n",
      "Automatically set threshold at doublet score = 0.46\n",
      "Detected doublet rate = 0.6%\n",
      "Estimated detectable doublet fraction = 6.1%\n",
      "Overall doublet rate:\n",
      "\tExpected   = 10.0%\n",
      "\tEstimated  = 9.3%\n",
      "Elapsed time: 9.8 seconds\n",
      "reading C:\\Users\\gperry\\OneDrive - The Jackson Laboratory\\Documents\\GSBE Project - meeting recordings\\molecule_files\\SC2100426\\filtered_feature_bc_matrix.h5\n",
      " (0:00:01)\n",
      "Preprocessing...\n",
      "Simulating doublets...\n",
      "Embedding transcriptomes using PCA...\n",
      "Calculating doublet scores...\n",
      "Automatically set threshold at doublet score = 0.41\n",
      "Detected doublet rate = 2.0%\n",
      "Estimated detectable doublet fraction = 14.3%\n",
      "Overall doublet rate:\n",
      "\tExpected   = 10.0%\n",
      "\tEstimated  = 13.7%\n",
      "Elapsed time: 19.1 seconds\n"
     ]
    }
   ],
   "source": [
    "species = \"hsapiens+mmusculus\"\n",
    "raws = [annotate_raw_10x_data(p, species) for p in input_paths]    # This is running annotate_raw_10x_data() and setting it equal to \"raws\""
   ]
  },
  {
   "cell_type": "markdown",
   "id": "5ba815ce-eecd-469f-95ed-782bd8ea6fa3",
   "metadata": {},
   "source": [
    "# Merging datasets\n",
    "#### Simple concatenation along the genes. No Batch correction yet."
   ]
  },
  {
   "cell_type": "code",
   "execution_count": 8,
   "id": "73cfa917-7cb1-4355-a3f4-385406290a9e",
   "metadata": {},
   "outputs": [
    {
     "name": "stdout",
     "output_type": "stream",
     "text": [
      "filtered out 648 cells that have less than 800 genes expressed\n",
      "filtered out 1121 cells that have less than 800 genes expressed\n",
      "filtered out 1730 cells that have less than 800 genes expressed\n",
      "filtered out 1035 cells that have less than 800 genes expressed\n",
      "filtered out 826 cells that have less than 800 genes expressed\n",
      "filtered out 635 cells that have less than 800 genes expressed\n",
      "filtered out 787 cells that have less than 800 genes expressed\n"
     ]
    }
   ],
   "source": [
    "# Don't remove any genes here (as it will make integration harder)\n",
    "# But remove cells based on whatever you want- filtering out basic cells not of interest\n",
    "qc_params = {\n",
    "    \"min_genes_per_cell\": 800,\n",
    "    \"max_pct_counts_mitochondrial\": 20,\n",
    "    \"max_counts_hemoglobin\": 50, \n",
    "}\n",
    "\n",
    "qcs = []\n",
    "for raw in raws:\n",
    "    qc = raw.copy()\n",
    "    sc.pp.filter_cells(qc, min_genes=qc_params.get(\"min_genes_per_cell\", 800))\n",
    "    idx = qc.obs.pct_counts_mitochondrial < qc_params.get(\"max_pct_counts_mitochondrial\", 30)\n",
    "    idx &= qc.obs.total_counts_hemoglobin < qc_params.get(\"max_counts_hemoglobin\", 100)\n",
    "    qc = qc[idx, :].copy()\n",
    "    qcs.append(qc)"
   ]
  },
  {
   "cell_type": "code",
   "execution_count": 9,
   "id": "edc75c32-b405-438e-bb10-283d5877d565",
   "metadata": {},
   "outputs": [],
   "source": [
    "merged_raw = anndata.concat(\n",
    "    qcs, join=\"outer\", label=\"dataset\", keys=output_id_mapping.values(), index_unique=\"-\", \n",
    ")\n",
    "merged_raw.raw = merged_raw.copy()\n",
    "merged_raw.layers[\"raw\"] = merged_raw.X.copy()"
   ]
  },
  {
   "cell_type": "code",
   "execution_count": 10,
   "id": "e2f6a8b0-a319-40e2-9c60-d44cd7d218ba",
   "metadata": {},
   "outputs": [],
   "source": [
    "output_path = data_dir / \"merged_raw.h5ad\""
   ]
  },
  {
   "cell_type": "code",
   "execution_count": 11,
   "id": "9f9a5f7b-8143-4596-b65a-2e75205563b6",
   "metadata": {},
   "outputs": [],
   "source": [
    "merged_raw.write(output_path)"
   ]
  },
  {
   "cell_type": "code",
   "execution_count": null,
   "id": "3785c9aa-e416-4a87-97ed-3d38d02b2a0b",
   "metadata": {},
   "outputs": [],
   "source": []
  }
 ],
 "metadata": {
  "kernelspec": {
   "display_name": "Python [conda env:JHH216-hT246]",
   "language": "python",
   "name": "conda-env-JHH216-hT246-py"
  },
  "language_info": {
   "codemirror_mode": {
    "name": "ipython",
    "version": 3
   },
   "file_extension": ".py",
   "mimetype": "text/x-python",
   "name": "python",
   "nbconvert_exporter": "python",
   "pygments_lexer": "ipython3",
   "version": "3.9.12"
  }
 },
 "nbformat": 4,
 "nbformat_minor": 5
}
